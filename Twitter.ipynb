{
 "cells": [
  {
   "cell_type": "markdown",
   "metadata": {},
   "source": [
    "# Mining the social web: Twitter"
   ]
  },
  {
   "cell_type": "markdown",
   "metadata": {},
   "source": [
    "### Initializing API"
   ]
  },
  {
   "cell_type": "code",
   "execution_count": 1,
   "metadata": {
    "collapsed": false,
    "scrolled": true
   },
   "outputs": [],
   "source": [
    "import twitter\n",
    "#import os\n",
    "#CONSUMER_KEY = os.environ['TWITTER_CONSUMER_KEY']\n",
    "#CONSUMER_SECRET = os.environ['TWITTER_CONSUMER_SECRET']\n",
    "#OAUTH_TOKEN = os.environ['TWITTER_ACCESS_TOKEN']\n",
    "#OAUTH_TOKEN_SECRET = os.environ['TWITTER_ACCESS_SECRET']\n",
    "\n",
    "config = {}\n",
    "execfile(\"config.py\", config)\n",
    "\n",
    "auth = twitter.oauth.OAuth(config['TWITTER_ACCESS_KEY'], config['TWITTER_ACCESS_SECRET'],\n",
    "                           config['TWITTER_CONSUMER_KEY'], config['TWITTER_CONSUMER_SECRET'])\n",
    "\n",
    "twitter_api = twitter.Twitter(auth=auth)"
   ]
  },
  {
   "cell_type": "markdown",
   "metadata": {},
   "source": [
    "### Trending topics in the world and Mexico\n",
    "Using Yahoo's Where On Earth ID (WOEID)\n",
    "\n",
    "A list of countries' IDs: http://www.knowbeforeyougo.co/yahooWOEIDs.cfm"
   ]
  },
  {
   "cell_type": "code",
   "execution_count": 2,
   "metadata": {
    "collapsed": false
   },
   "outputs": [],
   "source": [
    "import json\n",
    "# The Yahoo! Where On Earth ID for the entire world is 1 and for mexico is 116545.\n",
    "WORLD_WOE_ID = 1\n",
    "MX_WOE_ID = 116545\n",
    "\n",
    "# Prefix ID with the underscore for query string parameterization.\n",
    "# Without the underscore, the twitter package appends the ID value\n",
    "# to the URL itself as a special case keyword argument.\n",
    "\n",
    "world_trends = twitter_api.trends.place(_id=WORLD_WOE_ID)\n",
    "mx_trends = twitter_api.trends.place(_id=MX_WOE_ID)"
   ]
  },
  {
   "cell_type": "code",
   "execution_count": 3,
   "metadata": {
    "collapsed": true
   },
   "outputs": [],
   "source": [
    "import pandas as pn\n",
    "# pandas's data frames are easier on the eye.\n",
    "wtrends_df = pn.read_json(json.dumps(world_trends[0]['trends']))\n",
    "mxtrends_df = pn.read_json(json.dumps(mx_trends[0]['trends']))"
   ]
  },
  {
   "cell_type": "code",
   "execution_count": 4,
   "metadata": {
    "collapsed": false,
    "scrolled": true
   },
   "outputs": [
    {
     "name": "stdout",
     "output_type": "stream",
     "text": [
      "                name  promoted_content                query  tweet_volume  \\\n",
      "0        #HayeBellew               NaN        %23HayeBellew      154582.0   \n",
      "1      Grayson Allen               NaN  %22Grayson+Allen%22           NaN   \n",
      "2            #UFC209               NaN            %23UFC209       36859.0   \n",
      "3            Eleanor               NaN              Eleanor      529755.0   \n",
      "4  #LugaresQueHablan               NaN  %23LugaresQueHablan           NaN   \n",
      "\n",
      "                                               url  \n",
      "0        http://twitter.com/search?q=%23HayeBellew  \n",
      "1  http://twitter.com/search?q=%22Grayson+Allen%22  \n",
      "2            http://twitter.com/search?q=%23UFC209  \n",
      "3              http://twitter.com/search?q=Eleanor  \n",
      "4  http://twitter.com/search?q=%23LugaresQueHablan  \n",
      "*********************************************************************************\n",
      "                         name  promoted_content                         query  \\\n",
      "0                   #CruzAzul               NaN                   %23CruzAzul   \n",
      "1           #JanCuakaResponde               NaN           %23JanCuakaResponde   \n",
      "2                     Eleanor               NaN                       Eleanor   \n",
      "3  #LasNoviasGordasSonLoDeHoy               NaN  %23LasNoviasGordasSonLoDeHoy   \n",
      "4            #HoyMeFascinaría               NaN       %23HoyMeFascinar%C3%ADa   \n",
      "\n",
      "   tweet_volume                                                url  \n",
      "0           NaN            http://twitter.com/search?q=%23CruzAzul  \n",
      "1       11315.0    http://twitter.com/search?q=%23JanCuakaResponde  \n",
      "2      529755.0                http://twitter.com/search?q=Eleanor  \n",
      "3           NaN  http://twitter.com/search?q=%23LasNoviasGordas...  \n",
      "4       14288.0  http://twitter.com/search?q=%23HoyMeFascinar%C...  \n"
     ]
    }
   ],
   "source": [
    "print wtrends_df.head()\n",
    "print '*********************************************************************************'\n",
    "print mxtrends_df.head() "
   ]
  },
  {
   "cell_type": "markdown",
   "metadata": {},
   "source": [
    "### Specific Hashtag"
   ]
  },
  {
   "cell_type": "code",
   "execution_count": 5,
   "metadata": {
    "collapsed": true
   },
   "outputs": [],
   "source": [
    "q = '#LasNoviasGordasSonLoDeHoy' \n",
    "\n",
    "count = 100\n",
    "\n",
    "# See https://dev.twitter.com/docs/api/1.1/get/search/tweets\n",
    "\n",
    "search_results = twitter_api.search.tweets(q=q, count=count)"
   ]
  },
  {
   "cell_type": "code",
   "execution_count": 6,
   "metadata": {
    "collapsed": false
   },
   "outputs": [],
   "source": [
    "df = pn.DataFrame()\n",
    "for result in search_results[\"statuses\"]:\n",
    "    df_temp = pn.DataFrame()\n",
    "    df_temp.loc[0,'created_at'] = result[\"created_at\"]\n",
    "    df_temp.loc[0, 'screen_name'] = result[\"user\"][\"screen_name\"]\n",
    "    df_temp.loc[0, 'text'] = result[\"text\"]\n",
    "    df = df.append(df_temp)"
   ]
  },
  {
   "cell_type": "code",
   "execution_count": 7,
   "metadata": {
    "collapsed": false
   },
   "outputs": [
    {
     "data": {
      "text/html": [
       "<div>\n",
       "<table border=\"1\" class=\"dataframe\">\n",
       "  <thead>\n",
       "    <tr style=\"text-align: right;\">\n",
       "      <th></th>\n",
       "      <th>created_at</th>\n",
       "      <th>screen_name</th>\n",
       "      <th>text</th>\n",
       "    </tr>\n",
       "  </thead>\n",
       "  <tbody>\n",
       "    <tr>\n",
       "      <th>0</th>\n",
       "      <td>Sun Mar 05 02:23:10 +0000 2017</td>\n",
       "      <td>ashvvb</td>\n",
       "      <td>RT @SimplyTheBitch_: #LasNoviasGordasSonLoDeHo...</td>\n",
       "    </tr>\n",
       "    <tr>\n",
       "      <th>1</th>\n",
       "      <td>Sun Mar 05 02:23:01 +0000 2017</td>\n",
       "      <td>girl_almighty5</td>\n",
       "      <td>RT @usuarianueva: #LasNoviasGordasSonLoDeHoy p...</td>\n",
       "    </tr>\n",
       "    <tr>\n",
       "      <th>2</th>\n",
       "      <td>Sun Mar 05 02:23:01 +0000 2017</td>\n",
       "      <td>3Saritha</td>\n",
       "      <td>RT @SimplyTheBitch_: #LasNoviasGordasSonLoDeHo...</td>\n",
       "    </tr>\n",
       "    <tr>\n",
       "      <th>3</th>\n",
       "      <td>Sun Mar 05 02:22:59 +0000 2017</td>\n",
       "      <td>BlackSanzj</td>\n",
       "      <td>RT @Pazyale: #LasNoviasGordasSonLoDeHoy de seg...</td>\n",
       "    </tr>\n",
       "    <tr>\n",
       "      <th>4</th>\n",
       "      <td>Sun Mar 05 02:22:59 +0000 2017</td>\n",
       "      <td>J0S_PA</td>\n",
       "      <td>#LasNoviasGordasSonLoDeHoy y las que van al Gy...</td>\n",
       "    </tr>\n",
       "    <tr>\n",
       "      <th>5</th>\n",
       "      <td>Sun Mar 05 02:22:59 +0000 2017</td>\n",
       "      <td>ashvvb</td>\n",
       "      <td>RT @SimplyTheBitch_: Como que #LasNoviasGordas...</td>\n",
       "    </tr>\n",
       "    <tr>\n",
       "      <th>6</th>\n",
       "      <td>Sun Mar 05 02:22:58 +0000 2017</td>\n",
       "      <td>3Saritha</td>\n",
       "      <td>RT @SimplyTheBitch_: Como que #LasNoviasGordas...</td>\n",
       "    </tr>\n",
       "    <tr>\n",
       "      <th>7</th>\n",
       "      <td>Sun Mar 05 02:22:48 +0000 2017</td>\n",
       "      <td>BlackSanzj</td>\n",
       "      <td>RT @Pazyale: #LasNoviasGordasSonLoDeHoy hipócr...</td>\n",
       "    </tr>\n",
       "    <tr>\n",
       "      <th>8</th>\n",
       "      <td>Sun Mar 05 02:22:47 +0000 2017</td>\n",
       "      <td>TopTrendsMexico</td>\n",
       "      <td>#TopTrendsMexico  ⒍ #HoyMeFascinaría ⒎ #LasNov...</td>\n",
       "    </tr>\n",
       "    <tr>\n",
       "      <th>9</th>\n",
       "      <td>Sun Mar 05 02:22:45 +0000 2017</td>\n",
       "      <td>curtis_mx</td>\n",
       "      <td>RT @Pazyale: #LasNoviasGordasSonLoDeHoy hipócr...</td>\n",
       "    </tr>\n",
       "  </tbody>\n",
       "</table>\n",
       "</div>"
      ],
      "text/plain": [
       "                       created_at      screen_name  \\\n",
       "0  Sun Mar 05 02:23:10 +0000 2017           ashvvb   \n",
       "1  Sun Mar 05 02:23:01 +0000 2017   girl_almighty5   \n",
       "2  Sun Mar 05 02:23:01 +0000 2017         3Saritha   \n",
       "3  Sun Mar 05 02:22:59 +0000 2017       BlackSanzj   \n",
       "4  Sun Mar 05 02:22:59 +0000 2017           J0S_PA   \n",
       "5  Sun Mar 05 02:22:59 +0000 2017           ashvvb   \n",
       "6  Sun Mar 05 02:22:58 +0000 2017         3Saritha   \n",
       "7  Sun Mar 05 02:22:48 +0000 2017       BlackSanzj   \n",
       "8  Sun Mar 05 02:22:47 +0000 2017  TopTrendsMexico   \n",
       "9  Sun Mar 05 02:22:45 +0000 2017        curtis_mx   \n",
       "\n",
       "                                                text  \n",
       "0  RT @SimplyTheBitch_: #LasNoviasGordasSonLoDeHo...  \n",
       "1  RT @usuarianueva: #LasNoviasGordasSonLoDeHoy p...  \n",
       "2  RT @SimplyTheBitch_: #LasNoviasGordasSonLoDeHo...  \n",
       "3  RT @Pazyale: #LasNoviasGordasSonLoDeHoy de seg...  \n",
       "4  #LasNoviasGordasSonLoDeHoy y las que van al Gy...  \n",
       "5  RT @SimplyTheBitch_: Como que #LasNoviasGordas...  \n",
       "6  RT @SimplyTheBitch_: Como que #LasNoviasGordas...  \n",
       "7  RT @Pazyale: #LasNoviasGordasSonLoDeHoy hipócr...  \n",
       "8  #TopTrendsMexico  ⒍ #HoyMeFascinaría ⒎ #LasNov...  \n",
       "9  RT @Pazyale: #LasNoviasGordasSonLoDeHoy hipócr...  "
      ]
     },
     "execution_count": 7,
     "metadata": {},
     "output_type": "execute_result"
    }
   ],
   "source": [
    "df.reset_index(inplace=True)\n",
    "del df['index']\n",
    "df.head(10)"
   ]
  }
 ],
 "metadata": {
  "kernelspec": {
   "display_name": "Python 2",
   "language": "python",
   "name": "python2"
  },
  "language_info": {
   "codemirror_mode": {
    "name": "ipython",
    "version": 2
   },
   "file_extension": ".py",
   "mimetype": "text/x-python",
   "name": "python",
   "nbconvert_exporter": "python",
   "pygments_lexer": "ipython2",
   "version": "2.7.11"
  }
 },
 "nbformat": 4,
 "nbformat_minor": 0
}
