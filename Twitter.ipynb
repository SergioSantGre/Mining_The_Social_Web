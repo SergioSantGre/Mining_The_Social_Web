{
 "cells": [
  {
   "cell_type": "markdown",
   "metadata": {},
   "source": [
    "# Mining the social web: Twitter"
   ]
  },
  {
   "cell_type": "markdown",
   "metadata": {},
   "source": [
    "### Initializing API"
   ]
  },
  {
   "cell_type": "code",
   "execution_count": 1,
   "metadata": {
    "collapsed": false,
    "scrolled": true
   },
   "outputs": [],
   "source": [
    "import twitter\n",
    "#import os\n",
    "#CONSUMER_KEY = os.environ['TWITTER_CONSUMER_KEY']\n",
    "#CONSUMER_SECRET = os.environ['TWITTER_CONSUMER_SECRET']\n",
    "#OAUTH_TOKEN = os.environ['TWITTER_ACCESS_TOKEN']\n",
    "#OAUTH_TOKEN_SECRET = os.environ['TWITTER_ACCESS_SECRET']\n",
    "\n",
    "config = {}\n",
    "execfile(\"config.py\", config)\n",
    "\n",
    "auth = twitter.oauth.OAuth(config['TWITTER_ACCESS_KEY'], config['TWITTER_ACCESS_SECRET'],\n",
    "                           config['TWITTER_CONSUMER_KEY'], config['TWITTER_CONSUMER_SECRET'])\n",
    "\n",
    "twitter_api = twitter.Twitter(auth=auth)"
   ]
  },
  {
   "cell_type": "markdown",
   "metadata": {},
   "source": [
    "### Trending topics in the world and Mexico\n",
    "Using Yahoo's Where On Earth ID (WOEID)\n",
    "\n",
    "A list of countries' IDs: http://www.knowbeforeyougo.co/yahooWOEIDs.cfm"
   ]
  },
  {
   "cell_type": "code",
   "execution_count": 2,
   "metadata": {
    "collapsed": false
   },
   "outputs": [],
   "source": [
    "import json\n",
    "# The Yahoo! Where On Earth ID for the entire world is 1 and for mexico is 116545.\n",
    "WORLD_WOE_ID = 1\n",
    "MX_WOE_ID = 116545\n",
    "\n",
    "# Prefix ID with the underscore for query string parameterization.\n",
    "# Without the underscore, the twitter package appends the ID value\n",
    "# to the URL itself as a special case keyword argument.\n",
    "\n",
    "world_trends = twitter_api.trends.place(_id=WORLD_WOE_ID)\n",
    "mx_trends = twitter_api.trends.place(_id=MX_WOE_ID)"
   ]
  },
  {
   "cell_type": "code",
   "execution_count": 3,
   "metadata": {
    "collapsed": true
   },
   "outputs": [],
   "source": [
    "import pandas as pn\n",
    "# pandas's data frames are easier on the eye.\n",
    "wtrends_df = pn.read_json(json.dumps(world_trends[0]['trends']))\n",
    "mxtrends_df = pn.read_json(json.dumps(mx_trends[0]['trends']))"
   ]
  },
  {
   "cell_type": "code",
   "execution_count": 4,
   "metadata": {
    "collapsed": false,
    "scrolled": true
   },
   "outputs": [
    {
     "name": "stdout",
     "output_type": "stream",
     "text": [
      "**************************************** World ****************************************\n",
      "                name  promoted_content                query  tweet_volume  \\\n",
      "0            #UFC209               NaN            %23UFC209       45160.0   \n",
      "1        #HayeBellew               NaN        %23HayeBellew      155372.0   \n",
      "2      Grayson Allen               NaN  %22Grayson+Allen%22           NaN   \n",
      "3  #LugaresQueHablan               NaN  %23LugaresQueHablan           NaN   \n",
      "4            Eleanor               NaN              Eleanor      537660.0   \n",
      "\n",
      "                                               url  \n",
      "0            http://twitter.com/search?q=%23UFC209  \n",
      "1        http://twitter.com/search?q=%23HayeBellew  \n",
      "2  http://twitter.com/search?q=%22Grayson+Allen%22  \n",
      "3  http://twitter.com/search?q=%23LugaresQueHablan  \n",
      "4              http://twitter.com/search?q=Eleanor  \n",
      "**************************************** Mexico ****************************************\n",
      "                name  promoted_content                    query  tweet_volume  \\\n",
      "0  #JanCuakaResponde               NaN      %23JanCuakaResponde       11597.0   \n",
      "1          #CruzAzul               NaN              %23CruzAzul           NaN   \n",
      "2      #VamosAmerica               NaN          %23VamosAmerica           NaN   \n",
      "3            Eleanor               NaN                  Eleanor      537660.0   \n",
      "4   #HoyMeFascinaría               NaN  %23HoyMeFascinar%C3%ADa       14354.0   \n",
      "\n",
      "                                                 url  \n",
      "0    http://twitter.com/search?q=%23JanCuakaResponde  \n",
      "1            http://twitter.com/search?q=%23CruzAzul  \n",
      "2        http://twitter.com/search?q=%23VamosAmerica  \n",
      "3                http://twitter.com/search?q=Eleanor  \n",
      "4  http://twitter.com/search?q=%23HoyMeFascinar%C...  \n"
     ]
    }
   ],
   "source": [
    "print '**************************************** World ****************************************'\n",
    "print wtrends_df.head()\n",
    "print '**************************************** Mexico ****************************************'\n",
    "print mxtrends_df.head() "
   ]
  },
  {
   "cell_type": "markdown",
   "metadata": {},
   "source": [
    "### Specific Hashtag"
   ]
  },
  {
   "cell_type": "code",
   "execution_count": 5,
   "metadata": {
    "collapsed": true
   },
   "outputs": [],
   "source": [
    "q = '#LasNoviasGordasSonLoDeHoy' \n",
    "\n",
    "count = 100\n",
    "\n",
    "# See https://dev.twitter.com/docs/api/1.1/get/search/tweets\n",
    "\n",
    "search_results = twitter_api.search.tweets(q=q, count=count)"
   ]
  },
  {
   "cell_type": "code",
   "execution_count": 6,
   "metadata": {
    "collapsed": false
   },
   "outputs": [],
   "source": [
    "df = pn.DataFrame()\n",
    "for result in search_results[\"statuses\"]:\n",
    "    df_temp = pn.DataFrame()\n",
    "    df_temp.loc[0,'created_at'] = result[\"created_at\"]\n",
    "    df_temp.loc[0, 'screen_name'] = result[\"user\"][\"screen_name\"]\n",
    "    df_temp.loc[0, 'text'] = result[\"text\"]\n",
    "    df = df.append(df_temp)"
   ]
  },
  {
   "cell_type": "code",
   "execution_count": 7,
   "metadata": {
    "collapsed": false
   },
   "outputs": [
    {
     "data": {
      "text/html": [
       "<div>\n",
       "<table border=\"1\" class=\"dataframe\">\n",
       "  <thead>\n",
       "    <tr style=\"text-align: right;\">\n",
       "      <th></th>\n",
       "      <th>created_at</th>\n",
       "      <th>screen_name</th>\n",
       "      <th>text</th>\n",
       "    </tr>\n",
       "  </thead>\n",
       "  <tbody>\n",
       "    <tr>\n",
       "      <th>0</th>\n",
       "      <td>Sun Mar 05 02:38:31 +0000 2017</td>\n",
       "      <td>IvanCruzMD</td>\n",
       "      <td>RT @Pazyale: #LasNoviasGordasSonLoDeHoy hipócr...</td>\n",
       "    </tr>\n",
       "    <tr>\n",
       "      <th>1</th>\n",
       "      <td>Sun Mar 05 02:38:27 +0000 2017</td>\n",
       "      <td>Alejandra199530</td>\n",
       "      <td>RT @usuarianueva: #LasNoviasGordasSonLoDeHoy p...</td>\n",
       "    </tr>\n",
       "    <tr>\n",
       "      <th>2</th>\n",
       "      <td>Sun Mar 05 02:37:59 +0000 2017</td>\n",
       "      <td>Alejandra199530</td>\n",
       "      <td>RT @CarneBlanca: Si #LasNoviasGordasSonLoDeHoy...</td>\n",
       "    </tr>\n",
       "    <tr>\n",
       "      <th>3</th>\n",
       "      <td>Sun Mar 05 02:37:28 +0000 2017</td>\n",
       "      <td>jevi_ortiz</td>\n",
       "      <td>Mi chica está pasada de buena.. #LasNoviasGord...</td>\n",
       "    </tr>\n",
       "    <tr>\n",
       "      <th>4</th>\n",
       "      <td>Sun Mar 05 02:37:26 +0000 2017</td>\n",
       "      <td>BlackRayVlogs</td>\n",
       "      <td>#LasNoviasGordasSonLoDeHoy aplastame pero no m...</td>\n",
       "    </tr>\n",
       "    <tr>\n",
       "      <th>5</th>\n",
       "      <td>Sun Mar 05 02:37:22 +0000 2017</td>\n",
       "      <td>maleno_perez</td>\n",
       "      <td>RT @CarneBlanca: Si #LasNoviasGordasSonLoDeHoy...</td>\n",
       "    </tr>\n",
       "    <tr>\n",
       "      <th>6</th>\n",
       "      <td>Sun Mar 05 02:37:07 +0000 2017</td>\n",
       "      <td>javiervazzquezz</td>\n",
       "      <td>RT @GabrielSottero: #LasNoviasGordasSonLoDeHoy...</td>\n",
       "    </tr>\n",
       "    <tr>\n",
       "      <th>7</th>\n",
       "      <td>Sun Mar 05 02:37:06 +0000 2017</td>\n",
       "      <td>maleno_perez</td>\n",
       "      <td>RT @Pazyale: #LasNoviasGordasSonLoDeHoy denigr...</td>\n",
       "    </tr>\n",
       "    <tr>\n",
       "      <th>8</th>\n",
       "      <td>Sun Mar 05 02:36:38 +0000 2017</td>\n",
       "      <td>terminattor1</td>\n",
       "      <td>RT @Pazyale: #LasNoviasGordasSonLoDeHoy de seg...</td>\n",
       "    </tr>\n",
       "    <tr>\n",
       "      <th>9</th>\n",
       "      <td>Sun Mar 05 02:36:34 +0000 2017</td>\n",
       "      <td>pepitoselacome</td>\n",
       "      <td>#LasNoviasGordasSonLoDeHoy porque debemos evit...</td>\n",
       "    </tr>\n",
       "  </tbody>\n",
       "</table>\n",
       "</div>"
      ],
      "text/plain": [
       "                       created_at      screen_name  \\\n",
       "0  Sun Mar 05 02:38:31 +0000 2017       IvanCruzMD   \n",
       "1  Sun Mar 05 02:38:27 +0000 2017  Alejandra199530   \n",
       "2  Sun Mar 05 02:37:59 +0000 2017  Alejandra199530   \n",
       "3  Sun Mar 05 02:37:28 +0000 2017       jevi_ortiz   \n",
       "4  Sun Mar 05 02:37:26 +0000 2017    BlackRayVlogs   \n",
       "5  Sun Mar 05 02:37:22 +0000 2017     maleno_perez   \n",
       "6  Sun Mar 05 02:37:07 +0000 2017  javiervazzquezz   \n",
       "7  Sun Mar 05 02:37:06 +0000 2017     maleno_perez   \n",
       "8  Sun Mar 05 02:36:38 +0000 2017     terminattor1   \n",
       "9  Sun Mar 05 02:36:34 +0000 2017   pepitoselacome   \n",
       "\n",
       "                                                text  \n",
       "0  RT @Pazyale: #LasNoviasGordasSonLoDeHoy hipócr...  \n",
       "1  RT @usuarianueva: #LasNoviasGordasSonLoDeHoy p...  \n",
       "2  RT @CarneBlanca: Si #LasNoviasGordasSonLoDeHoy...  \n",
       "3  Mi chica está pasada de buena.. #LasNoviasGord...  \n",
       "4  #LasNoviasGordasSonLoDeHoy aplastame pero no m...  \n",
       "5  RT @CarneBlanca: Si #LasNoviasGordasSonLoDeHoy...  \n",
       "6  RT @GabrielSottero: #LasNoviasGordasSonLoDeHoy...  \n",
       "7  RT @Pazyale: #LasNoviasGordasSonLoDeHoy denigr...  \n",
       "8  RT @Pazyale: #LasNoviasGordasSonLoDeHoy de seg...  \n",
       "9  #LasNoviasGordasSonLoDeHoy porque debemos evit...  "
      ]
     },
     "execution_count": 7,
     "metadata": {},
     "output_type": "execute_result"
    }
   ],
   "source": [
    "df.reset_index(inplace=True)\n",
    "del df['index']\n",
    "df.head(10)"
   ]
  }
 ],
 "metadata": {
  "kernelspec": {
   "display_name": "Python 2",
   "language": "python",
   "name": "python2"
  },
  "language_info": {
   "codemirror_mode": {
    "name": "ipython",
    "version": 2
   },
   "file_extension": ".py",
   "mimetype": "text/x-python",
   "name": "python",
   "nbconvert_exporter": "python",
   "pygments_lexer": "ipython2",
   "version": "2.7.11"
  }
 },
 "nbformat": 4,
 "nbformat_minor": 0
}
